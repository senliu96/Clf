{
 "cells": [
  {
   "cell_type": "markdown",
   "metadata": {},
   "source": [
    "Kmeans python"
   ]
  },
  {
   "cell_type": "code",
   "execution_count": 1,
   "metadata": {},
   "outputs": [],
   "source": [
    "import numpy as np\n",
    "import matplotlib.pyplot as plt\n",
    "from sklearn.datasets import make_blobs\n",
    "import random"
   ]
  },
  {
   "cell_type": "code",
   "execution_count": 2,
   "metadata": {},
   "outputs": [
    {
     "data": {
      "text/plain": [
       "(5000, 2)"
      ]
     },
     "execution_count": 2,
     "metadata": {},
     "output_type": "execute_result"
    }
   ],
   "source": [
    "plt.figure(figsize=(12,12))\n",
    "x,y = make_blobs(n_samples=5000,random_state=27,cluster_std=0.7)\n",
    "plt.subplot(211)\n",
    "plt.scatter(x[:,0],x[:,1],c=y)\n",
    "plt.title(\"input\")\n",
    "x.shape"
   ]
  },
  {
   "cell_type": "code",
   "execution_count": 3,
   "metadata": {},
   "outputs": [
    {
     "name": "stdout",
     "output_type": "stream",
     "text": [
      "[[ -3.37255949  11.28834873]\n",
      " [ -1.67262761   7.94141648]\n",
      " [ -0.32159797   9.17555872]]\n",
      "[-0.31895327  1.311522  ]\n"
     ]
    },
    {
     "data": {
      "text/plain": [
       "5000"
      ]
     },
     "execution_count": 3,
     "metadata": {},
     "output_type": "execute_result"
    }
   ],
   "source": [
    "#init cent\n",
    "# x1max=np.max(x[:,0],axis=0)\n",
    "# x2max=np.max(x[:,1],axis=0)\n",
    "# x1min=np.min(x[:,0],axis=0)\n",
    "# x2min=np.min(x[:,1],axis=0)\n",
    "cent = [[random.uniform(x[:,0].min(),x[:,0].max()),random.uniform(x[:,1].min(),x[:,1].max())] for i in range(0,3)]\n",
    "cent1 =np.array(cent)\n",
    "plt.scatter(cent1[:,0],cent1[:,1])\n",
    "print(cent1)\n",
    "# print(x[2]-cent1[1])\n",
    "# np.linalg.norm(x[2]-cent1[1])\n",
    "x.shape[0]"
   ]
  },
  {
   "cell_type": "code",
   "execution_count": 15,
   "metadata": {},
   "outputs": [
    {
     "name": "stdout",
     "output_type": "stream",
     "text": [
      "[[ 3.66176531  7.76329213]]\n",
      "[[ 4.68620135  7.37117195]]\n",
      "[[ 4.68620135  7.37117195]]\n",
      "[[ 4.68620135  7.37117195]]\n",
      "[[ 4.68620135  7.37117195]]\n",
      "[[ 4.68620135  7.37117195]]\n",
      "[[ 4.68620135  7.37117195]]\n",
      "[[ 4.68620135  7.37117195]]\n",
      "[[ 4.68620135  7.37117195]]\n",
      "[[ 4.68620135  7.37117195]]\n",
      "[[ 4.68620135  7.37117195]]\n",
      "[[ 4.68620135  7.37117195]]\n",
      "[[ 4.68620135  7.37117195]]\n",
      "[[ 4.68620135  7.37117195]]\n",
      "[[ 4.68620135  7.37117195]]\n",
      "[[ 4.68620135  7.37117195]]\n",
      "[[ 4.68620135  7.37117195]]\n",
      "[[ 4.68620135  7.37117195]]\n",
      "[[ 4.68620135  7.37117195]]\n",
      "[[ 4.68620135  7.37117195]]\n"
     ]
    },
    {
     "data": {
      "image/png": "[encoded data removed]",
      "text/plain": [
       "<matplotlib.figure.Figure at 0x938e940>"
      ]
     },
     "metadata": {},
     "output_type": "display_data"
    }
   ],
   "source": [
    "#cent[3,2]\n",
    "def countlab(cent):\n",
    "    xdis=np.zeros((x.shape[0],3))\n",
    "    for j in range(0,3):\n",
    "        for i in range(0,x.shape[0]):\n",
    "            xdis[i,j]= np.linalg.norm(x[i] - cent[j]) \n",
    "    lab=np.argmin(xdis,axis=1)\n",
    "#     print(xdis)\n",
    "    return lab\n",
    "def countcent(lab):\n",
    "    xx= np.column_stack((x,lab))\n",
    "#     print(xx)\n",
    "# x1 = [xx[i,2]==0 for i in range(0,xx.shape[0]) ]\n",
    "    newcent1=np.zeros([3,2])\n",
    "    for i in range(0,3):\n",
    "        x1=np.where(xx[:,2]==i)\n",
    "#         print(x1[0])\n",
    "        x1=xx[x1,0:2]\n",
    "#         print(x1.shape)\n",
    "        newcent=np.mean(x1,axis=1)\n",
    "#         print(newcent)\n",
    "        newcent1[i]=newcent\n",
    "    print(newcent)\n",
    "    return newcent1\n",
    "cent = cent1\n",
    "plt.subplot(212)\n",
    "for i in range(0,20):\n",
    "    lab=countlab(cent)\n",
    "#     print(lab)\n",
    "    cent=countcent(lab)\n",
    "#     print(cent)\n",
    "    \n",
    "plt.scatter(x[:,0],x[:,1],c=lab)\n",
    "plt.scatter(cent[:,0],cent[:,1],marker='v')\n",
    "\n",
    "plt.title(\"output\")\n",
    "plt.show()"
   ]
  },
  {
   "cell_type": "code",
   "execution_count": null,
   "metadata": {},
   "outputs": [],
   "source": []
  },
  {
   "cell_type": "code",
   "execution_count": null,
   "metadata": {},
   "outputs": [],
   "source": []
  },
  {
   "cell_type": "code",
   "execution_count": null,
   "metadata": {},
   "outputs": [],
   "source": []
  }
 ],
 "metadata": {
  "kernelspec": {
   "display_name": "Python 3",
   "language": "python",
   "name": "python3"
  },
  "language_info": {
   "codemirror_mode": {
    "name": "ipython",
    "version": 3
   },
   "file_extension": ".py",
   "mimetype": "text/x-python",
   "name": "python",
   "nbconvert_exporter": "python",
   "pygments_lexer": "ipython3",
   "version": "3.6.1"
  }
 },
 "nbformat": 4,
 "nbformat_minor": 2
}
